{
 "cells": [
  {
   "cell_type": "code",
   "execution_count": null,
   "metadata": {
    "tags": [
     "hide_input"
    ]
   },
   "outputs": [],
   "source": [
    "try:\n",
    "    import solution\n",
    "except NameError:\n",
    "    raise CellExecutionError(\"\"\"\n",
    "    Could not import solution. Check the following: \n",
    "    1) Does your notebook run top-to-bottom (restart kernel and run all) on your local machine? Notebooks downloaded from another runtime may contain unexpected commands. \n",
    "    2) Does solution.py exist in the submit folder?\n",
    "    3) Check that your notebook does not have any 'pip install' commands.\n",
    "    4) Check the indentation of your notebook code if it was downloaded from Colab\n",
    "    5) Run 'python solution.py' to see where it breaks. Does that help you solve it?\n",
    "    \"\"\")"
   ]
  },
  {
   "cell_type": "code",
   "execution_count": null,
   "metadata": {
    "tags": [
     "hide_input"
    ]
   },
   "outputs": [],
   "source": [
    "%%capture\n",
    "# DO NOT EDIT THIS NOTEBOOK\n",
    "# It generates a report to verify your submission\n",
    "import os\n",
    "import solution\n",
    "import time\n",
    "start_verify = time.time()\n",
    "import matplotlib.pyplot as plt\n",
    "plt.rcParams[\"figure.figsize\"] = (10,3)\n",
    "\n",
    "# Key variables\n",
    "X_train = solution.X_train\n",
    "y_train = solution.y_train\n",
    "class_names = solution.class_names"
   ]
  },
  {
   "cell_type": "markdown",
   "metadata": {},
   "source": [
    "### Machine Learning Engineering - Assignment 3"
   ]
  },
  {
   "cell_type": "code",
   "execution_count": null,
   "metadata": {
    "tags": [
     "hide_input"
    ]
   },
   "outputs": [],
   "source": [
    "print(\"Name:\",solution.your_name)"
   ]
  },
  {
   "cell_type": "markdown",
   "metadata": {},
   "source": [
    "#### Answer 1.1 (15p)"
   ]
  },
  {
   "cell_type": "code",
   "execution_count": null,
   "metadata": {
    "tags": [
     "hide_input"
    ]
   },
   "outputs": [],
   "source": [
    "from IPython.display import Image\n",
    "solution.print_answer(solution.answer_q_1_1)\n",
    "solution.run_evaluation(\"model_1_1\", solution.build_model_1_1, solution.evaluation_split, \n",
    "                        solution.base_dir, train=False, epochs=3, batch_size=32)\n",
    "if os.path.exists(os.path.join(solution.base_dir,'model_1_1.png')):\n",
    "    display(Image(os.path.join(solution.base_dir,'model_1_1.png'), width=200))"
   ]
  },
  {
   "cell_type": "markdown",
   "metadata": {},
   "source": [
    "#### Answer 1.2 (15p)"
   ]
  },
  {
   "cell_type": "code",
   "execution_count": null,
   "metadata": {
    "tags": [
     "hide_input"
    ]
   },
   "outputs": [],
   "source": [
    "solution.print_answer(solution.answer_q_1_2)\n",
    "solution.run_evaluation(\"model_1_2\", solution.build_model_1_2, solution.augment_data(), \n",
    "                        solution.base_dir, train=False, generator=True, epochs=3, batch_size=32)"
   ]
  },
  {
   "cell_type": "markdown",
   "metadata": {},
   "source": [
    "#### Answer 2.1 (5p)"
   ]
  },
  {
   "cell_type": "code",
   "execution_count": null,
   "metadata": {
    "tags": [
     "hide_input"
    ]
   },
   "outputs": [],
   "source": [
    "print(\"Test accuracy:\", solution.evaluate_model())"
   ]
  },
  {
   "cell_type": "markdown",
   "metadata": {},
   "source": [
    "#### Answer 2.2 (20p)"
   ]
  },
  {
   "cell_type": "code",
   "execution_count": null,
   "metadata": {
    "tags": [
     "hide_input"
    ]
   },
   "outputs": [],
   "source": [
    "solution.plot_confusion_matrix()\n",
    "solution.plot_misclassifications()\n",
    "solution.print_answer(solution.answer_q_2)"
   ]
  },
  {
   "cell_type": "markdown",
   "metadata": {},
   "source": [
    "#### Answer 3.1 (25p)"
   ]
  },
  {
   "cell_type": "code",
   "execution_count": null,
   "metadata": {
    "tags": [
     "hide_input"
    ]
   },
   "outputs": [],
   "source": [
    "solution.run_evaluation(\"model_3_1\", solution.build_model_3_1, solution.augment_data(), \n",
    "                        solution.base_dir, train=False, generator=True, epochs=3, batch_size=32)\n",
    "if os.path.exists(os.path.join(solution.base_dir,'model_3_1.png')):\n",
    "    display(Image(os.path.join(solution.base_dir,'model_3_1.png'), width=200))\n",
    "    \n",
    "print(solution.test_accuracy_3_1)"
   ]
  },
  {
   "cell_type": "markdown",
   "metadata": {},
   "source": [
    "#### Answer 3.2 (20p)"
   ]
  },
  {
   "cell_type": "code",
   "execution_count": null,
   "metadata": {
    "tags": [
     "hide_input"
    ]
   },
   "outputs": [],
   "source": [
    "dn_embs = solution.create_embeddings(\"model_3_1\")\n",
    "d2_embs = solution.compute_tsne(dn_embs)\n",
    "solution.plot_tsne(d2_embs, solution.y_train)\n",
    "solution.print_answer(solution.answer_q_3)"
   ]
  },
  {
   "cell_type": "code",
   "execution_count": null,
   "metadata": {
    "tags": [
     "hide_input"
    ]
   },
   "outputs": [],
   "source": [
    "end_verify = time.time()\n",
    "print(\"Running time: {:.2f} seconds\".format(end_verify - start_verify))\n",
    "print(\"Last modified: {}\".format(solution.last_edit))\n",
    "print(\"tensorflow version: {0}\".format(solution.tensorflow_version))"
   ]
  }
 ],
 "metadata": {
  "kernelspec": {
   "display_name": "Python 3 (ipykernel)",
   "language": "python",
   "name": "python3"
  },
  "language_info": {
   "codemirror_mode": {
    "name": "ipython",
    "version": 3
   },
   "file_extension": ".py",
   "mimetype": "text/x-python",
   "name": "python",
   "nbconvert_exporter": "python",
   "pygments_lexer": "ipython3",
   "version": "3.9.7"
  }
 },
 "nbformat": 4,
 "nbformat_minor": 4
}
